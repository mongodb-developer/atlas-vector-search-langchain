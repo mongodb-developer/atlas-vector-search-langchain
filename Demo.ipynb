{
  "nbformat": 4,
  "nbformat_minor": 0,
  "metadata": {
    "colab": {
      "provenance": []
    },
    "kernelspec": {
      "name": "python3",
      "display_name": "Python 3"
    },
    "language_info": {
      "name": "python"
    }
  },
  "cells": [
    {
      "cell_type": "markdown",
      "source": [
        "# This Notebook shows  and create a vector search index using the MongoDB Atlas GUI and LangChain\n",
        "\n",
        "*   how can we store vector embeddings in MongoDB documents\n",
        "*   create a vector search index using the MongoDB Atlas GUI\n",
        "*   perform KNN search using Approximate Nearest Neighbors algorithm which uses the Hierarchical Navigable Small World (HSNW) graphs\n",
        "\n",
        "# and also throws some light on\n",
        "\n",
        "1.   Comparing textual and fuzzy search with semantic search\n",
        "2.   How retrieval architecture helps\n",
        "\n"
      ],
      "metadata": {
        "id": "8-bkgwzhnzOT"
      }
    },
    {
      "cell_type": "markdown",
      "source": [
        "# Deploy the MongoDB Atlas Cluster, you can refer [quick start](https://www.mongodb.com/docs/atlas/getting-started/) and then install the required libraries"
      ],
      "metadata": {
        "id": "PVIPEzMTYOx5"
      }
    },
    {
      "cell_type": "code",
      "execution_count": null,
      "metadata": {
        "colab": {
          "base_uri": "https://localhost:8080/"
        },
        "id": "A86iEJkYRumU",
        "outputId": "1d602f95-54e8-425c-fcb4-38fbc3072eaa"
      },
      "outputs": [
        {
          "output_type": "stream",
          "name": "stdout",
          "text": [
            "Requirement already satisfied: pymongo in /usr/local/lib/python3.10/dist-packages (4.4.1)\n",
            "Requirement already satisfied: dnspython<3.0.0,>=1.16.0 in /usr/local/lib/python3.10/dist-packages (from pymongo) (2.4.1)\n",
            "Requirement already satisfied: langchain in /usr/local/lib/python3.10/dist-packages (0.0.244)\n",
            "Requirement already satisfied: PyYAML>=5.4.1 in /usr/local/lib/python3.10/dist-packages (from langchain) (6.0.1)\n",
            "Requirement already satisfied: SQLAlchemy<3,>=1.4 in /usr/local/lib/python3.10/dist-packages (from langchain) (2.0.19)\n",
            "Requirement already satisfied: aiohttp<4.0.0,>=3.8.3 in /usr/local/lib/python3.10/dist-packages (from langchain) (3.8.5)\n",
            "Requirement already satisfied: async-timeout<5.0.0,>=4.0.0 in /usr/local/lib/python3.10/dist-packages (from langchain) (4.0.2)\n",
            "Requirement already satisfied: dataclasses-json<0.6.0,>=0.5.7 in /usr/local/lib/python3.10/dist-packages (from langchain) (0.5.13)\n",
            "Requirement already satisfied: langsmith<0.1.0,>=0.0.11 in /usr/local/lib/python3.10/dist-packages (from langchain) (0.0.14)\n",
            "Requirement already satisfied: numexpr<3.0.0,>=2.8.4 in /usr/local/lib/python3.10/dist-packages (from langchain) (2.8.4)\n",
            "Requirement already satisfied: numpy<2,>=1 in /usr/local/lib/python3.10/dist-packages (from langchain) (1.22.4)\n",
            "Requirement already satisfied: openapi-schema-pydantic<2.0,>=1.2 in /usr/local/lib/python3.10/dist-packages (from langchain) (1.2.4)\n",
            "Requirement already satisfied: pydantic<2,>=1 in /usr/local/lib/python3.10/dist-packages (from langchain) (1.10.11)\n",
            "Requirement already satisfied: requests<3,>=2 in /usr/local/lib/python3.10/dist-packages (from langchain) (2.27.1)\n",
            "Requirement already satisfied: tenacity<9.0.0,>=8.1.0 in /usr/local/lib/python3.10/dist-packages (from langchain) (8.2.2)\n",
            "Requirement already satisfied: attrs>=17.3.0 in /usr/local/lib/python3.10/dist-packages (from aiohttp<4.0.0,>=3.8.3->langchain) (23.1.0)\n",
            "Requirement already satisfied: charset-normalizer<4.0,>=2.0 in /usr/local/lib/python3.10/dist-packages (from aiohttp<4.0.0,>=3.8.3->langchain) (2.0.12)\n",
            "Requirement already satisfied: multidict<7.0,>=4.5 in /usr/local/lib/python3.10/dist-packages (from aiohttp<4.0.0,>=3.8.3->langchain) (6.0.4)\n",
            "Requirement already satisfied: yarl<2.0,>=1.0 in /usr/local/lib/python3.10/dist-packages (from aiohttp<4.0.0,>=3.8.3->langchain) (1.9.2)\n",
            "Requirement already satisfied: frozenlist>=1.1.1 in /usr/local/lib/python3.10/dist-packages (from aiohttp<4.0.0,>=3.8.3->langchain) (1.4.0)\n",
            "Requirement already satisfied: aiosignal>=1.1.2 in /usr/local/lib/python3.10/dist-packages (from aiohttp<4.0.0,>=3.8.3->langchain) (1.3.1)\n",
            "Requirement already satisfied: marshmallow<4.0.0,>=3.18.0 in /usr/local/lib/python3.10/dist-packages (from dataclasses-json<0.6.0,>=0.5.7->langchain) (3.20.1)\n",
            "Requirement already satisfied: typing-inspect<1,>=0.4.0 in /usr/local/lib/python3.10/dist-packages (from dataclasses-json<0.6.0,>=0.5.7->langchain) (0.9.0)\n",
            "Requirement already satisfied: typing-extensions>=4.2.0 in /usr/local/lib/python3.10/dist-packages (from pydantic<2,>=1->langchain) (4.7.1)\n",
            "Requirement already satisfied: urllib3<1.27,>=1.21.1 in /usr/local/lib/python3.10/dist-packages (from requests<3,>=2->langchain) (1.26.16)\n",
            "Requirement already satisfied: certifi>=2017.4.17 in /usr/local/lib/python3.10/dist-packages (from requests<3,>=2->langchain) (2023.7.22)\n",
            "Requirement already satisfied: idna<4,>=2.5 in /usr/local/lib/python3.10/dist-packages (from requests<3,>=2->langchain) (3.4)\n",
            "Requirement already satisfied: greenlet!=0.4.17 in /usr/local/lib/python3.10/dist-packages (from SQLAlchemy<3,>=1.4->langchain) (2.0.2)\n",
            "Requirement already satisfied: packaging>=17.0 in /usr/local/lib/python3.10/dist-packages (from marshmallow<4.0.0,>=3.18.0->dataclasses-json<0.6.0,>=0.5.7->langchain) (23.1)\n",
            "Requirement already satisfied: mypy-extensions>=0.3.0 in /usr/local/lib/python3.10/dist-packages (from typing-inspect<1,>=0.4.0->dataclasses-json<0.6.0,>=0.5.7->langchain) (1.0.0)\n",
            "Requirement already satisfied: OpenAI in /usr/local/lib/python3.10/dist-packages (0.27.8)\n",
            "Requirement already satisfied: requests>=2.20 in /usr/local/lib/python3.10/dist-packages (from OpenAI) (2.27.1)\n",
            "Requirement already satisfied: tqdm in /usr/local/lib/python3.10/dist-packages (from OpenAI) (4.65.0)\n",
            "Requirement already satisfied: aiohttp in /usr/local/lib/python3.10/dist-packages (from OpenAI) (3.8.5)\n",
            "Requirement already satisfied: urllib3<1.27,>=1.21.1 in /usr/local/lib/python3.10/dist-packages (from requests>=2.20->OpenAI) (1.26.16)\n",
            "Requirement already satisfied: certifi>=2017.4.17 in /usr/local/lib/python3.10/dist-packages (from requests>=2.20->OpenAI) (2023.7.22)\n",
            "Requirement already satisfied: charset-normalizer~=2.0.0 in /usr/local/lib/python3.10/dist-packages (from requests>=2.20->OpenAI) (2.0.12)\n",
            "Requirement already satisfied: idna<4,>=2.5 in /usr/local/lib/python3.10/dist-packages (from requests>=2.20->OpenAI) (3.4)\n",
            "Requirement already satisfied: attrs>=17.3.0 in /usr/local/lib/python3.10/dist-packages (from aiohttp->OpenAI) (23.1.0)\n",
            "Requirement already satisfied: multidict<7.0,>=4.5 in /usr/local/lib/python3.10/dist-packages (from aiohttp->OpenAI) (6.0.4)\n",
            "Requirement already satisfied: async-timeout<5.0,>=4.0.0a3 in /usr/local/lib/python3.10/dist-packages (from aiohttp->OpenAI) (4.0.2)\n",
            "Requirement already satisfied: yarl<2.0,>=1.0 in /usr/local/lib/python3.10/dist-packages (from aiohttp->OpenAI) (1.9.2)\n",
            "Requirement already satisfied: frozenlist>=1.1.1 in /usr/local/lib/python3.10/dist-packages (from aiohttp->OpenAI) (1.4.0)\n",
            "Requirement already satisfied: aiosignal>=1.1.2 in /usr/local/lib/python3.10/dist-packages (from aiohttp->OpenAI) (1.3.1)\n",
            "Requirement already satisfied: tiktoken in /usr/local/lib/python3.10/dist-packages (0.4.0)\n",
            "Requirement already satisfied: regex>=2022.1.18 in /usr/local/lib/python3.10/dist-packages (from tiktoken) (2022.10.31)\n",
            "Requirement already satisfied: requests>=2.26.0 in /usr/local/lib/python3.10/dist-packages (from tiktoken) (2.27.1)\n",
            "Requirement already satisfied: urllib3<1.27,>=1.21.1 in /usr/local/lib/python3.10/dist-packages (from requests>=2.26.0->tiktoken) (1.26.16)\n",
            "Requirement already satisfied: certifi>=2017.4.17 in /usr/local/lib/python3.10/dist-packages (from requests>=2.26.0->tiktoken) (2023.7.22)\n",
            "Requirement already satisfied: charset-normalizer~=2.0.0 in /usr/local/lib/python3.10/dist-packages (from requests>=2.26.0->tiktoken) (2.0.12)\n",
            "Requirement already satisfied: idna<4,>=2.5 in /usr/local/lib/python3.10/dist-packages (from requests>=2.26.0->tiktoken) (3.4)\n"
          ]
        }
      ],
      "source": [
        "!pip install pymongo\n",
        "!pip install --upgrade langchain\n",
        "!pip install --upgrade OpenAI\n",
        "!pip install --upgrade tiktoken"
      ]
    },
    {
      "cell_type": "markdown",
      "source": [
        "##Get the MongoDB Cluster URI"
      ],
      "metadata": {
        "id": "C2MTsqArno_S"
      }
    },
    {
      "cell_type": "code",
      "source": [
        "import os\n",
        "import getpass\n",
        "\n",
        "MONGODB_ATLAS_CLUSTER_URI = getpass.getpass(\"MongoDB Atlas Cluster URI:\")"
      ],
      "metadata": {
        "colab": {
          "base_uri": "https://localhost:8080/"
        },
        "id": "_1hVzhUmSTxQ",
        "outputId": "f3ca7428-5050-4a43-8c39-8b19c5297f88"
      },
      "execution_count": null,
      "outputs": [
        {
          "name": "stdout",
          "output_type": "stream",
          "text": [
            "MongoDB Atlas Cluster URI:··········\n"
          ]
        }
      ]
    },
    {
      "cell_type": "markdown",
      "source": [
        "## Get the Open AI API Key from the user (this is the LLM we will be using for this demo)"
      ],
      "metadata": {
        "id": "RoVuSV0GiFGA"
      }
    },
    {
      "cell_type": "code",
      "source": [
        "os.environ[\"OPENAI_API_KEY\"] = getpass.getpass(\"OpenAI API Key:\")\n",
        "\n"
      ],
      "metadata": {
        "colab": {
          "base_uri": "https://localhost:8080/"
        },
        "id": "u1UL38A5TnYN",
        "outputId": "271a7e39-812c-4561-c3b0-202a221c20a1"
      },
      "execution_count": null,
      "outputs": [
        {
          "name": "stdout",
          "output_type": "stream",
          "text": [
            "OpenAI API Key:··········\n"
          ]
        }
      ]
    },
    {
      "cell_type": "markdown",
      "source": [
        "\n",
        "Let's create a database named LLMDemo and collection named state_union and create a vector search index LangChainDemo in MongoDB Atlas GUI using the below mapping. See [quick start](https://www.mongodb.com/docs/atlas/atlas-search/field-types/knn-vector/)\n",
        "```\n",
        "# {\n",
        "  \"mappings\": {\n",
        "    \"dynamic\": true,\n",
        "    \"fields\": {\n",
        "      \"embedding\": {\n",
        "        \"dimensions\": 1536,\n",
        "        \"similarity\": \"cosine\",\n",
        "        \"type\": \"knnVector\"\n",
        "      }\n",
        "    }\n",
        "  }\n",
        "}\n",
        "```\n",
        "\n"
      ],
      "metadata": {
        "id": "up8MTTaTij09"
      }
    },
    {
      "cell_type": "markdown",
      "source": [
        "### Import LLM framework LangChain packages"
      ],
      "metadata": {
        "id": "_oVXAdwZiW6Z"
      }
    },
    {
      "cell_type": "code",
      "source": [
        "from langchain.embeddings.openai import OpenAIEmbeddings\n",
        "from langchain.text_splitter import CharacterTextSplitter\n",
        "from langchain.vectorstores import MongoDBAtlasVectorSearch\n",
        "from langchain.document_loaders import TextLoader\n"
      ],
      "metadata": {
        "id": "ofCWUqmYUJvG"
      },
      "execution_count": null,
      "outputs": []
    },
    {
      "cell_type": "markdown",
      "source": [
        "### Read the data set and create documents and the embeddings\n"
      ],
      "metadata": {
        "id": "FMY0L9JZjOW1"
      }
    },
    {
      "cell_type": "code",
      "source": [
        "loader = TextLoader(\"state_of_the_union.txt\")\n",
        "documents = loader.load()\n",
        "text_splitter = CharacterTextSplitter(chunk_size=1000, chunk_overlap=0)\n",
        "docs = text_splitter.split_documents(documents)\n",
        "\n",
        "embeddings = OpenAIEmbeddings()"
      ],
      "metadata": {
        "id": "cznIfOjMZt1D"
      },
      "execution_count": null,
      "outputs": []
    },
    {
      "cell_type": "markdown",
      "source": [
        "Connect to the database and collection created using MongoClient from pymongo and specify the vector search index"
      ],
      "metadata": {
        "id": "UZoxQ9-wjgso"
      }
    },
    {
      "cell_type": "code",
      "source": [
        "from pymongo import MongoClient\n",
        "\n",
        "# initialize MongoDB python client\n",
        "client = MongoClient(MONGODB_ATLAS_CLUSTER_URI)\n",
        "\n",
        "db_name = \"LLMDemo\"\n",
        "collection_name = \"state_union\"\n",
        "collection = client[db_name][collection_name]\n",
        "index_name = \"LangChainDemo\"\n"
      ],
      "metadata": {
        "id": "M7OO-r2mXjpT"
      },
      "execution_count": null,
      "outputs": []
    },
    {
      "cell_type": "code",
      "source": [
        "prompt = \"What did the president say about Covid-19\"\n"
      ],
      "metadata": {
        "id": "0tp7lE27qsKq"
      },
      "execution_count": null,
      "outputs": []
    },
    {
      "cell_type": "markdown",
      "source": [
        "### Insert the documents created from the data set and create vector embeddings, to be done only in the first execution"
      ],
      "metadata": {
        "id": "j-qRpgH6jwob"
      }
    },
    {
      "cell_type": "code",
      "source": [
        "# # insert the documents in MongoDB Atlas with their embedding\n",
        "# docsearch = MongoDBAtlasVectorSearch.from_documents(\n",
        "#     docs, embeddings, collection=collection, index_name=index_name\n",
        "# )\n",
        "# # perform a similarity search between the embedding of the query and the embeddings of the documents\n",
        "# query = \"What did the president say about Ketanji Brown Jackson\"\n",
        "# docs = docsearch.similarity_search(query)\n",
        "\n",
        "# print(docs[0].page_content)"
      ],
      "metadata": {
        "id": "h0theWo4jF8Q"
      },
      "execution_count": null,
      "outputs": []
    },
    {
      "cell_type": "markdown",
      "source": [
        "### Let's run a textual search and see the result. Too many results"
      ],
      "metadata": {
        "id": "GB8UmFfrj-Fy"
      }
    },
    {
      "cell_type": "code",
      "source": [
        "import pymongo\n",
        "db = client.LLMDemo\n",
        "db.state_union.create_index([(\"text\", pymongo.TEXT)])\n",
        "res = db.state_union.find( { '$text': { '$search': prompt} } )\n",
        "#print(db.state_union.index_information())\n",
        "#print(res)\n",
        "for doc in res:\n",
        "  print(doc[\"text\"])"
      ],
      "metadata": {
        "colab": {
          "base_uri": "https://localhost:8080/"
        },
        "id": "UIj8YyogkO-Q",
        "outputId": "f49400d0-1a7a-4ccb-c060-3ee4105a1811"
      },
      "execution_count": null,
      "outputs": [
        {
          "output_type": "stream",
          "name": "stdout",
          "text": [
            "And based on the projections, more of the country will reach that point across the next couple of weeks. \n",
            "\n",
            "Thanks to the progress we have made this past year, COVID-19 need no longer control our lives.  \n",
            "\n",
            "I know some are talking about “living with COVID-19”. Tonight – I say that we will never just accept living with COVID-19. \n",
            "\n",
            "We will continue to combat the virus as we do other diseases. And because this is a virus that mutates and spreads, we will stay on guard. \n",
            "\n",
            "Here are four common sense steps as we move forward safely.  \n",
            "\n",
            "First, stay protected with vaccines and treatments. We know how incredibly effective vaccines are. If you’re vaccinated and boosted you have the highest degree of protection. \n",
            "\n",
            "We will never give up on vaccinating more Americans. Now, I know parents with kids under 5 are eager to see a vaccine authorized for their children. \n",
            "\n",
            "The scientists are working hard to get that done and we’ll be ready with plenty of vaccines when they do.\n",
            "And let’s pass the PRO Act when a majority of workers want to form a union—they shouldn’t be stopped.  \n",
            "\n",
            "When we invest in our workers, when we build the economy from the bottom up and the middle out together, we can do something we haven’t done in a long time: build a better America. \n",
            "\n",
            "For more than two years, COVID-19 has impacted every decision in our lives and the life of the nation. \n",
            "\n",
            "And I know you’re tired, frustrated, and exhausted. \n",
            "\n",
            "But I also know this. \n",
            "\n",
            "Because of the progress we’ve made, because of your resilience and the tools we have, tonight I can say  \n",
            "we are moving forward safely, back to more normal routines.  \n",
            "\n",
            "We’ve reached a new moment in the fight against COVID-19, with severe cases down to a level not seen since last July.  \n",
            "\n",
            "Just a few days ago, the Centers for Disease Control and Prevention—the CDC—issued new mask guidelines. \n",
            "\n",
            "Under these new guidelines, most Americans in most of the country can now be mask free.\n",
            "And with 75% of adult Americans fully vaccinated and hospitalizations down by 77%, most Americans can remove their masks, return to work, stay in the classroom, and move forward safely. \n",
            "\n",
            "We achieved this because we provided free vaccines, treatments, tests, and masks. \n",
            "\n",
            "Of course, continuing this costs money. \n",
            "\n",
            "I will soon send Congress a request. \n",
            "\n",
            "The vast majority of Americans have used these tools and may want to again, so I expect Congress to pass it quickly.   \n",
            "\n",
            "Fourth, we will continue vaccinating the world.     \n",
            "\n",
            "We’ve sent 475 Million vaccine doses to 112 countries, more than any other nation. \n",
            "\n",
            "And we won’t stop. \n",
            "\n",
            "We have lost so much to COVID-19. Time with one another. And worst of all, so much loss of life. \n",
            "\n",
            "Let’s use this moment to reset. Let’s stop looking at COVID-19 as a partisan dividing line and see it for what it is: A God-awful disease.  \n",
            "\n",
            "Let’s stop seeing each other as enemies, and start seeing each other for who we really are: Fellow Americans.\n",
            "And so many families are living paycheck to paycheck, struggling to keep up with the rising cost of food, gas, housing, and so much more. \n",
            "\n",
            "I understand. \n",
            "\n",
            "I remember when my Dad had to leave our home in Scranton, Pennsylvania to find work. I grew up in a family where if the price of food went up, you felt it. \n",
            "\n",
            "That’s why one of the first things I did as President was fight to pass the American Rescue Plan.  \n",
            "\n",
            "Because people were hurting. We needed to act, and we did. \n",
            "\n",
            "Few pieces of legislation have done more in a critical moment in our history to lift us out of crisis. \n",
            "\n",
            "It fueled our efforts to vaccinate the nation and combat COVID-19. It delivered immediate economic relief for tens of millions of Americans.  \n",
            "\n",
            "Helped put food on their table, keep a roof over their heads, and cut the cost of health insurance. \n",
            "\n",
            "And as my Dad used to say, it gave people a little breathing room.\n",
            "Madam Speaker, Madam Vice President, our First Lady and Second Gentleman. Members of Congress and the Cabinet. Justices of the Supreme Court. My fellow Americans.  \n",
            "\n",
            "Last year COVID-19 kept us apart. This year we are finally together again. \n",
            "\n",
            "Tonight, we meet as Democrats Republicans and Independents. But most importantly as Americans. \n",
            "\n",
            "With a duty to one another to the American people to the Constitution. \n",
            "\n",
            "And with an unwavering resolve that freedom will always triumph over tyranny. \n",
            "\n",
            "Six days ago, Russia’s Vladimir Putin sought to shake the foundations of the free world thinking he could make it bend to his menacing ways. But he badly miscalculated. \n",
            "\n",
            "He thought he could roll into Ukraine and the world would roll over. Instead he met a wall of strength he never imagined. \n",
            "\n",
            "He met the Ukrainian people. \n",
            "\n",
            "From President Zelenskyy to every Ukrainian, their fearlessness, their courage, their determination, inspires the world.\n",
            "We’re also ready with anti-viral treatments. If you get COVID-19, the Pfizer pill reduces your chances of ending up in the hospital by 90%.  \n",
            "\n",
            "We’ve ordered more of these pills than anyone in the world. And Pfizer is working overtime to get us 1 Million pills this month and more than double that next month.  \n",
            "\n",
            "And we’re launching the “Test to Treat” initiative so people can get tested at a pharmacy, and if they’re positive, receive antiviral pills on the spot at no cost.  \n",
            "\n",
            "If you’re immunocompromised or have some other vulnerability, we have treatments and free high-quality masks. \n",
            "\n",
            "We’re leaving no one behind or ignoring anyone’s needs as we move forward. \n",
            "\n",
            "And on testing, we have made hundreds of millions of tests available for you to order for free.   \n",
            "\n",
            "Even if you already ordered free tests tonight, I am announcing that you can order more from covidtests.gov starting next week.\n",
            "We can’t change how divided we’ve been. But we can change how we move forward—on COVID-19 and other issues we must face together. \n",
            "\n",
            "I recently visited the New York City Police Department days after the funerals of Officer Wilbert Mora and his partner, Officer Jason Rivera. \n",
            "\n",
            "They were responding to a 9-1-1 call when a man shot and killed them with a stolen gun. \n",
            "\n",
            "Officer Mora was 27 years old. \n",
            "\n",
            "Officer Rivera was 22. \n",
            "\n",
            "Both Dominican Americans who’d grown up on the same streets they later chose to patrol as police officers. \n",
            "\n",
            "I spoke with their families and told them that we are forever in debt for their sacrifice, and we will carry on their mission to restore the trust and safety every community deserves. \n",
            "\n",
            "I’ve worked on these issues a long time. \n",
            "\n",
            "I know what works: Investing in crime preventionand community police officers who’ll walk the beat, who’ll know the neighborhood, and who can restore trust and safety.\n",
            "Vice President Harris and I ran for office with a new economic vision for America. \n",
            "\n",
            "Invest in America. Educate Americans. Grow the workforce. Build the economy from the bottom up  \n",
            "and the middle out, not from the top down.  \n",
            "\n",
            "Because we know that when the middle class grows, the poor have a ladder up and the wealthy do very well. \n",
            "\n",
            "America used to have the best roads, bridges, and airports on Earth. \n",
            "\n",
            "Now our infrastructure is ranked 13th in the world. \n",
            "\n",
            "We won’t be able to compete for the jobs of the 21st Century if we don’t fix that. \n",
            "\n",
            "That’s why it was so important to pass the Bipartisan Infrastructure Law—the most sweeping investment to rebuild America in history. \n",
            "\n",
            "This was a bipartisan effort, and I want to thank the members of both parties who worked to make it happen. \n",
            "\n",
            "We’re done talking about infrastructure weeks. \n",
            "\n",
            "We’re going to have an infrastructure decade.\n",
            "Tonight. I call on the Senate to: Pass the Freedom to Vote Act. Pass the John Lewis Voting Rights Act. And while you’re at it, pass the Disclose Act so Americans can know who is funding our elections. \n",
            "\n",
            "Tonight, I’d like to honor someone who has dedicated his life to serve this country: Justice Stephen Breyer—an Army veteran, Constitutional scholar, and retiring Justice of the United States Supreme Court. Justice Breyer, thank you for your service. \n",
            "\n",
            "One of the most serious constitutional responsibilities a President has is nominating someone to serve on the United States Supreme Court. \n",
            "\n",
            "And I did that 4 days ago, when I nominated Circuit Court of Appeals Judge Ketanji Brown Jackson. One of our nation’s top legal minds, who will continue Justice Breyer’s legacy of excellence.\n",
            "We’re going after the criminals who stole billions in relief money meant for small businesses and millions of Americans.  \n",
            "\n",
            "And tonight, I’m announcing that the Justice Department will name a chief prosecutor for pandemic fraud. \n",
            "\n",
            "By the end of this year, the deficit will be down to less than half what it was before I took office.  \n",
            "\n",
            "The only president ever to cut the deficit by more than one trillion dollars in a single year. \n",
            "\n",
            "Lowering your costs also means demanding more competition. \n",
            "\n",
            "I’m a capitalist, but capitalism without competition isn’t capitalism. \n",
            "\n",
            "It’s exploitation—and it drives up prices. \n",
            "\n",
            "When corporations don’t have to compete, their profits go up, your prices go up, and small businesses and family farmers and ranchers go under. \n",
            "\n",
            "We see it happening with ocean carriers moving goods in and out of America. \n",
            "\n",
            "During the pandemic, these foreign-owned companies raised prices by as much as 1,000% and made record profits.\n",
            "Groups of citizens blocking tanks with their bodies. Everyone from students to retirees teachers turned soldiers defending their homeland. \n",
            "\n",
            "In this struggle as President Zelenskyy said in his speech to the European Parliament “Light will win over darkness.” The Ukrainian Ambassador to the United States is here tonight. \n",
            "\n",
            "Let each of us here tonight in this Chamber send an unmistakable signal to Ukraine and to the world. \n",
            "\n",
            "Please rise if you are able and show that, Yes, we the United States of America stand with the Ukrainian people. \n",
            "\n",
            "Throughout our history we’ve learned this lesson when dictators do not pay a price for their aggression they cause more chaos.   \n",
            "\n",
            "They keep moving.   \n",
            "\n",
            "And the costs and the threats to America and the world keep rising.   \n",
            "\n",
            "That’s why the NATO Alliance was created to secure peace and stability in Europe after World War 2. \n",
            "\n",
            "The United States is a member along with 29 other nations. \n",
            "\n",
            "It matters. American diplomacy matters. American resolve matters.\n",
            "And for our LGBTQ+ Americans, let’s finally get the bipartisan Equality Act to my desk. The onslaught of state laws targeting transgender Americans and their families is wrong. \n",
            "\n",
            "As I said last year, especially to our younger transgender Americans, I will always have your back as your President, so you can be yourself and reach your God-given potential. \n",
            "\n",
            "While it often appears that we never agree, that isn’t true. I signed 80 bipartisan bills into law last year. From preventing government shutdowns to protecting Asian-Americans from still-too-common hate crimes to reforming military justice. \n",
            "\n",
            "And soon, we’ll strengthen the Violence Against Women Act that I first wrote three decades ago. It is important for us to show the nation that we can come together and do big things. \n",
            "\n",
            "So tonight I’m offering a Unity Agenda for the Nation. Four big things we can do together.  \n",
            "\n",
            "First, beat the opioid epidemic.\n",
            "Last month, I announced our plan to supercharge  \n",
            "the Cancer Moonshot that President Obama asked me to lead six years ago. \n",
            "\n",
            "Our goal is to cut the cancer death rate by at least 50% over the next 25 years, turn more cancers from death sentences into treatable diseases.  \n",
            "\n",
            "More support for patients and families. \n",
            "\n",
            "To get there, I call on Congress to fund ARPA-H, the Advanced Research Projects Agency for Health. \n",
            "\n",
            "It’s based on DARPA—the Defense Department project that led to the Internet, GPS, and so much more.  \n",
            "\n",
            "ARPA-H will have a singular purpose—to drive breakthroughs in cancer, Alzheimer’s, diabetes, and more. \n",
            "\n",
            "A unity agenda for the nation. \n",
            "\n",
            "We can do this. \n",
            "\n",
            "My fellow Americans—tonight , we have gathered in a sacred space—the citadel of our democracy. \n",
            "\n",
            "In this Capitol, generation after generation, Americans have debated great questions amid great strife, and have done great things. \n",
            "\n",
            "We have fought for freedom, expanded liberty, defeated totalitarianism and terror.\n",
            "When we use taxpayer dollars to rebuild America – we are going to Buy American: buy American products to support American jobs. \n",
            "\n",
            "The federal government spends about $600 Billion a year to keep the country safe and secure. \n",
            "\n",
            "There’s been a law on the books for almost a century \n",
            "to make sure taxpayers’ dollars support American jobs and businesses. \n",
            "\n",
            "Every Administration says they’ll do it, but we are actually doing it. \n",
            "\n",
            "We will buy American to make sure everything from the deck of an aircraft carrier to the steel on highway guardrails are made in America. \n",
            "\n",
            "But to compete for the best jobs of the future, we also need to level the playing field with China and other competitors. \n",
            "\n",
            "That’s why it is so important to pass the Bipartisan Innovation Act sitting in Congress that will make record investments in emerging technologies and American manufacturing. \n",
            "\n",
            "Let me give you one example of why it’s so important to pass it.\n",
            "But cancer from prolonged exposure to burn pits ravaged Heath’s lungs and body. \n",
            "\n",
            "Danielle says Heath was a fighter to the very end. \n",
            "\n",
            "He didn’t know how to stop fighting, and neither did she. \n",
            "\n",
            "Through her pain she found purpose to demand we do better. \n",
            "\n",
            "Tonight, Danielle—we are. \n",
            "\n",
            "The VA is pioneering new ways of linking toxic exposures to diseases, already helping more veterans get benefits. \n",
            "\n",
            "And tonight, I’m announcing we’re expanding eligibility to veterans suffering from nine respiratory cancers. \n",
            "\n",
            "I’m also calling on Congress: pass a law to make sure veterans devastated by toxic exposures in Iraq and Afghanistan finally get the benefits and comprehensive health care they deserve. \n",
            "\n",
            "And fourth, let’s end cancer as we know it. \n",
            "\n",
            "This is personal to me and Jill, to Kamala, and to so many of you. \n",
            "\n",
            "Cancer is the #2 cause of death in America–second only to heart disease.\n",
            "I have a better plan to fight inflation. \n",
            "\n",
            "Lower your costs, not your wages. \n",
            "\n",
            "Make more cars and semiconductors in America. \n",
            "\n",
            "More infrastructure and innovation in America. \n",
            "\n",
            "More goods moving faster and cheaper in America. \n",
            "\n",
            "More jobs where you can earn a good living in America. \n",
            "\n",
            "And instead of relying on foreign supply chains, let’s make it in America. \n",
            "\n",
            "Economists call it “increasing the productive capacity of our economy.” \n",
            "\n",
            "I call it building a better America. \n",
            "\n",
            "My plan to fight inflation will lower your costs and lower the deficit. \n",
            "\n",
            "17 Nobel laureates in economics say my plan will ease long-term inflationary pressures. Top business leaders and most Americans support my plan. And here’s the plan: \n",
            "\n",
            "First – cut the cost of prescription drugs. Just look at insulin. One in ten Americans has diabetes. In Virginia, I met a 13-year-old boy named Joshua Davis.\n",
            "We are inflicting pain on Russia and supporting the people of Ukraine. Putin is now isolated from the world more than ever. \n",
            "\n",
            "Together with our allies –we are right now enforcing powerful economic sanctions. \n",
            "\n",
            "We are cutting off Russia’s largest banks from the international financial system.  \n",
            "\n",
            "Preventing Russia’s central bank from defending the Russian Ruble making Putin’s $630 Billion “war fund” worthless.   \n",
            "\n",
            "We are choking off Russia’s access to technology that will sap its economic strength and weaken its military for years to come.  \n",
            "\n",
            "Tonight I say to the Russian oligarchs and corrupt leaders who have bilked billions of dollars off this violent regime no more. \n",
            "\n",
            "The U.S. Department of Justice is assembling a dedicated task force to go after the crimes of Russian oligarchs.  \n",
            "\n",
            "We are joining with our European allies to find and seize your yachts your luxury apartments your private jets. We are coming for your ill-begotten gains.\n",
            "As Ohio Senator Sherrod Brown says, “It’s time to bury the label “Rust Belt.” \n",
            "\n",
            "It’s time. \n",
            "\n",
            "But with all the bright spots in our economy, record job growth and higher wages, too many families are struggling to keep up with the bills.  \n",
            "\n",
            "Inflation is robbing them of the gains they might otherwise feel. \n",
            "\n",
            "I get it. That’s why my top priority is getting prices under control. \n",
            "\n",
            "Look, our economy roared back faster than most predicted, but the pandemic meant that businesses had a hard time hiring enough workers to keep up production in their factories. \n",
            "\n",
            "The pandemic also disrupted global supply chains. \n",
            "\n",
            "When factories close, it takes longer to make goods and get them from the warehouse to the store, and prices go up. \n",
            "\n",
            "Look at cars. \n",
            "\n",
            "Last year, there weren’t enough semiconductors to make all the cars that people wanted to buy. \n",
            "\n",
            "And guess what, prices of automobiles went up. \n",
            "\n",
            "So—we have a choice. \n",
            "\n",
            "One way to fight inflation is to drive down wages and make Americans poorer.\n"
          ]
        }
      ]
    },
    {
      "cell_type": "markdown",
      "source": [
        "### Let's create a vector store and perform a vector search using the MongoDB Atlas Vector Search and see that we have more contextual results!\n"
      ],
      "metadata": {
        "id": "f_PuqUYakSzG"
      }
    },
    {
      "cell_type": "code",
      "source": [
        "# initialize vector store\n",
        "vectorstore = MongoDBAtlasVectorSearch(\n",
        "    collection, OpenAIEmbeddings(), index_name=index_name\n",
        ")\n",
        "\n",
        "# perform a similarity search between a query and the ingested documents\n",
        "docs = vectorstore.similarity_search(prompt)\n",
        "print(prompt)\n",
        "print(docs[0].page_content)"
      ],
      "metadata": {
        "colab": {
          "base_uri": "https://localhost:8080/"
        },
        "id": "N2Iw6Q_sb2lz",
        "outputId": "15daa212-dfa4-434c-de88-37d80588317f"
      },
      "execution_count": null,
      "outputs": [
        {
          "output_type": "stream",
          "name": "stdout",
          "text": [
            "What did the president say about Covid-19\n",
            "And based on the projections, more of the country will reach that point across the next couple of weeks. \n",
            "\n",
            "Thanks to the progress we have made this past year, COVID-19 need no longer control our lives.  \n",
            "\n",
            "I know some are talking about “living with COVID-19”. Tonight – I say that we will never just accept living with COVID-19. \n",
            "\n",
            "We will continue to combat the virus as we do other diseases. And because this is a virus that mutates and spreads, we will stay on guard. \n",
            "\n",
            "Here are four common sense steps as we move forward safely.  \n",
            "\n",
            "First, stay protected with vaccines and treatments. We know how incredibly effective vaccines are. If you’re vaccinated and boosted you have the highest degree of protection. \n",
            "\n",
            "We will never give up on vaccinating more Americans. Now, I know parents with kids under 5 are eager to see a vaccine authorized for their children. \n",
            "\n",
            "The scientists are working hard to get that done and we’ll be ready with plenty of vaccines when they do.\n"
          ]
        }
      ]
    }
  ]
}